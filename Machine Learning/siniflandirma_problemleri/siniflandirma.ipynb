{
 "cells": [
  {
   "cell_type": "markdown",
   "metadata": {},
   "source": [
    "# Sınıflandırma Problemleri"
   ]
  },
  {
   "cell_type": "code",
   "execution_count": 1,
   "metadata": {},
   "outputs": [],
   "source": [
    "import numpy as np\n",
    "import pandas as pd \n",
    "import statsmodels.api as sm\n",
    "import statsmodels.formula.api as smf\n",
    "import seaborn as sns\n",
    "from sklearn.preprocessing import scale \n",
    "from sklearn.model_selection import train_test_split, GridSearchCV, cross_val_score\n",
    "from sklearn.metrics import confusion_matrix, accuracy_score, classification_report\n",
    "from sklearn.metrics import roc_auc_score,roc_curve\n",
    "import statsmodels.formula.api as smf\n",
    "import matplotlib.pyplot as plt\n",
    "from sklearn.neighbors import KNeighborsClassifier\n",
    "from sklearn.discriminant_analysis import LinearDiscriminantAnalysis\n",
    "from sklearn.linear_model import LogisticRegression\n",
    "from sklearn.svm import SVC\n",
    "from sklearn.naive_bayes import GaussianNB\n",
    "from sklearn import tree\n",
    "from sklearn.ensemble import RandomForestClassifier\n",
    "from sklearn.ensemble import GradientBoostingClassifier\n",
    "from xgboost import XGBClassifier\n",
    "from lightgbm import LGBMClassifier\n",
    "from catboost import CatBoostClassifier\n",
    "\n",
    "from warnings import filterwarnings\n",
    "filterwarnings('ignore')"
   ]
  },
  {
   "cell_type": "code",
   "execution_count": 2,
   "metadata": {},
   "outputs": [],
   "source": [
    "df = pd.read_csv(r\"veri_transform.csv\")"
   ]
  },
  {
   "cell_type": "code",
   "execution_count": 3,
   "metadata": {},
   "outputs": [],
   "source": [
    "X = df.drop([\"fiyat\"], axis = 1)\n",
    "y = df[\"fiyat\"]"
   ]
  },
  {
   "cell_type": "code",
   "execution_count": 4,
   "metadata": {},
   "outputs": [],
   "source": [
    "X_train, X_test, y_train, y_test = train_test_split(X, y, test_size = 0.25, random_state = 42)"
   ]
  },
  {
   "cell_type": "markdown",
   "metadata": {},
   "source": [
    "# Lojistik Regresyon "
   ]
  },
  {
   "cell_type": "markdown",
   "metadata": {},
   "source": [
    "## Model "
   ]
  },
  {
   "cell_type": "code",
   "execution_count": null,
   "metadata": {},
   "outputs": [],
   "source": [
    "diabetes = pd.read_csv(\"diabetes.csv\")\n",
    "df = diabetes.copy()\n",
    "df = df.dropna()\n",
    "df.head()"
   ]
  },
  {
   "cell_type": "code",
   "execution_count": null,
   "metadata": {},
   "outputs": [],
   "source": [
    "df.info()"
   ]
  },
  {
   "cell_type": "code",
   "execution_count": null,
   "metadata": {},
   "outputs": [],
   "source": [
    "df[\"Outcome\"].value_counts()"
   ]
  },
  {
   "cell_type": "code",
   "execution_count": null,
   "metadata": {},
   "outputs": [],
   "source": [
    "df[\"Outcome\"].value_counts().plot.barh();"
   ]
  },
  {
   "cell_type": "code",
   "execution_count": null,
   "metadata": {},
   "outputs": [],
   "source": [
    "df.describe().T"
   ]
  },
  {
   "cell_type": "code",
   "execution_count": null,
   "metadata": {},
   "outputs": [],
   "source": [
    "y = df[\"Outcome\"]\n",
    "X = df.drop([\"Outcome\"], axis=1)"
   ]
  },
  {
   "cell_type": "code",
   "execution_count": null,
   "metadata": {},
   "outputs": [],
   "source": [
    "#statsmodels"
   ]
  },
  {
   "cell_type": "code",
   "execution_count": null,
   "metadata": {},
   "outputs": [],
   "source": [
    "loj = sm.Logit(y, X)\n",
    "loj_model= loj.fit()\n",
    "loj_model.summary()"
   ]
  },
  {
   "cell_type": "code",
   "execution_count": null,
   "metadata": {},
   "outputs": [],
   "source": [
    "#scikit-learn"
   ]
  },
  {
   "cell_type": "code",
   "execution_count": null,
   "metadata": {},
   "outputs": [],
   "source": [
    "from sklearn.linear_model import LogisticRegression\n",
    "loj = LogisticRegression(solver = \"liblinear\")\n",
    "loj_model = loj.fit(X,y)\n",
    "loj_model"
   ]
  },
  {
   "cell_type": "code",
   "execution_count": null,
   "metadata": {},
   "outputs": [],
   "source": [
    "loj_model.intercept_"
   ]
  },
  {
   "cell_type": "code",
   "execution_count": null,
   "metadata": {},
   "outputs": [],
   "source": [
    "loj_model.coef_"
   ]
  },
  {
   "cell_type": "markdown",
   "metadata": {},
   "source": [
    "## Tahmin & Model Tuning"
   ]
  },
  {
   "cell_type": "code",
   "execution_count": null,
   "metadata": {},
   "outputs": [],
   "source": [
    "y_pred = loj_model.predict(X)"
   ]
  },
  {
   "cell_type": "code",
   "execution_count": null,
   "metadata": {},
   "outputs": [],
   "source": [
    "confusion_matrix(y, y_pred)"
   ]
  },
  {
   "cell_type": "code",
   "execution_count": null,
   "metadata": {},
   "outputs": [],
   "source": [
    "accuracy_score(y, y_pred)"
   ]
  },
  {
   "cell_type": "code",
   "execution_count": null,
   "metadata": {},
   "outputs": [],
   "source": [
    "print(classification_report(y, y_pred))"
   ]
  },
  {
   "cell_type": "code",
   "execution_count": null,
   "metadata": {},
   "outputs": [],
   "source": [
    "loj_model.predict(X)[0:10]"
   ]
  },
  {
   "cell_type": "code",
   "execution_count": null,
   "metadata": {},
   "outputs": [],
   "source": [
    "loj_model.predict_proba(X)[0:10][:,0:2]"
   ]
  },
  {
   "cell_type": "code",
   "execution_count": null,
   "metadata": {},
   "outputs": [],
   "source": [
    "y[0:10]"
   ]
  },
  {
   "cell_type": "code",
   "execution_count": null,
   "metadata": {},
   "outputs": [],
   "source": [
    "y_probs = loj_model.predict_proba(X)\n",
    "y_probs = y_probs[:,1]"
   ]
  },
  {
   "cell_type": "code",
   "execution_count": null,
   "metadata": {},
   "outputs": [],
   "source": [
    "y_probs[0:10]"
   ]
  },
  {
   "cell_type": "code",
   "execution_count": null,
   "metadata": {},
   "outputs": [],
   "source": [
    "y_pred = [1 if i > 0.5 else 0 for i in y_probs]"
   ]
  },
  {
   "cell_type": "code",
   "execution_count": null,
   "metadata": {},
   "outputs": [],
   "source": [
    "y_pred[0:10]"
   ]
  },
  {
   "cell_type": "code",
   "execution_count": null,
   "metadata": {},
   "outputs": [],
   "source": [
    "confusion_matrix(y, y_pred)"
   ]
  },
  {
   "cell_type": "code",
   "execution_count": null,
   "metadata": {},
   "outputs": [],
   "source": [
    "accuracy_score(y, y_pred)"
   ]
  },
  {
   "cell_type": "code",
   "execution_count": null,
   "metadata": {},
   "outputs": [],
   "source": [
    "print(classification_report(y, y_pred))"
   ]
  },
  {
   "cell_type": "code",
   "execution_count": null,
   "metadata": {},
   "outputs": [],
   "source": [
    "loj_model.predict_proba(X)[:,1][0:5]"
   ]
  },
  {
   "cell_type": "code",
   "execution_count": null,
   "metadata": {},
   "outputs": [],
   "source": [
    "logit_roc_auc = roc_auc_score(y, loj_model.predict(X))\n",
    "\n",
    "fpr, tpr, thresholds = roc_curve(y, loj_model.predict_proba(X)[:,1])\n",
    "plt.figure()\n",
    "plt.plot(fpr, tpr, label='AUC (area = %0.2f)' % logit_roc_auc)\n",
    "plt.plot([0, 1], [0, 1],'r--')\n",
    "plt.xlim([0.0, 1.0])\n",
    "plt.ylim([0.0, 1.05])\n",
    "plt.xlabel('False Positive Oranı')\n",
    "plt.ylabel('True Positive Oranı')\n",
    "plt.title('ROC')\n",
    "plt.show()"
   ]
  },
  {
   "cell_type": "code",
   "execution_count": null,
   "metadata": {},
   "outputs": [],
   "source": [
    "X_train, X_test, y_train, y_test = train_test_split(X, y, \n",
    "                                                    test_size = 0.30, \n",
    "                                                    random_state = 42)\n"
   ]
  },
  {
   "cell_type": "code",
   "execution_count": null,
   "metadata": {},
   "outputs": [],
   "source": [
    "loj = LogisticRegression(solver = \"liblinear\")\n",
    "loj_model = loj.fit(X_train,y_train)\n",
    "loj_model"
   ]
  },
  {
   "cell_type": "code",
   "execution_count": null,
   "metadata": {},
   "outputs": [],
   "source": [
    "accuracy_score(y_test, loj_model.predict(X_test))"
   ]
  },
  {
   "cell_type": "code",
   "execution_count": null,
   "metadata": {},
   "outputs": [],
   "source": [
    "cross_val_score(loj_model, X_test, y_test, cv = 10).mean()"
   ]
  },
  {
   "cell_type": "markdown",
   "metadata": {},
   "source": [
    "# Gaussian Naive Bayes"
   ]
  },
  {
   "cell_type": "code",
   "execution_count": 5,
   "metadata": {},
   "outputs": [],
   "source": [
    "from sklearn.naive_bayes import GaussianNB"
   ]
  },
  {
   "cell_type": "code",
   "execution_count": 6,
   "metadata": {},
   "outputs": [
    {
     "data": {
      "text/plain": [
       "GaussianNB()"
      ]
     },
     "execution_count": 6,
     "metadata": {},
     "output_type": "execute_result"
    }
   ],
   "source": [
    "nb = GaussianNB()\n",
    "nb_model = nb.fit(X_train, y_train)\n",
    "nb_model"
   ]
  },
  {
   "cell_type": "code",
   "execution_count": null,
   "metadata": {},
   "outputs": [],
   "source": [
    "nb_model.predict(X_test)[0:10]"
   ]
  },
  {
   "cell_type": "code",
   "execution_count": null,
   "metadata": {},
   "outputs": [],
   "source": [
    "nb_model.predict_proba(X_test)[0:10]"
   ]
  },
  {
   "cell_type": "code",
   "execution_count": 7,
   "metadata": {},
   "outputs": [],
   "source": [
    "y_pred = nb_model.predict(X_test)"
   ]
  },
  {
   "cell_type": "code",
   "execution_count": 8,
   "metadata": {},
   "outputs": [
    {
     "data": {
      "text/plain": [
       "0.0016625103906899418"
      ]
     },
     "execution_count": 8,
     "metadata": {},
     "output_type": "execute_result"
    }
   ],
   "source": [
    "accuracy_score(y_test, y_pred)"
   ]
  },
  {
   "cell_type": "code",
   "execution_count": 9,
   "metadata": {},
   "outputs": [
    {
     "data": {
      "text/plain": [
       "0.005"
      ]
     },
     "execution_count": 9,
     "metadata": {},
     "output_type": "execute_result"
    }
   ],
   "source": [
    "cross_val_score(nb_model, X_test, y_test, cv = 10).mean()"
   ]
  },
  {
   "cell_type": "code",
   "execution_count": 10,
   "metadata": {},
   "outputs": [
    {
     "data": {
      "text/plain": [
       "0.0016625103906899418"
      ]
     },
     "execution_count": 10,
     "metadata": {},
     "output_type": "execute_result"
    }
   ],
   "source": [
    "nb_model.score(X_test,y_test)"
   ]
  },
  {
   "cell_type": "markdown",
   "metadata": {},
   "source": [
    "# KNN"
   ]
  },
  {
   "cell_type": "markdown",
   "metadata": {},
   "source": [
    "## Model & Tahmin"
   ]
  },
  {
   "cell_type": "code",
   "execution_count": 11,
   "metadata": {},
   "outputs": [
    {
     "data": {
      "text/plain": [
       "KNeighborsClassifier()"
      ]
     },
     "execution_count": 11,
     "metadata": {},
     "output_type": "execute_result"
    }
   ],
   "source": [
    "knn = KNeighborsClassifier()\n",
    "knn_model = knn.fit(X_train, y_train)\n",
    "knn_model"
   ]
  },
  {
   "cell_type": "code",
   "execution_count": 12,
   "metadata": {},
   "outputs": [],
   "source": [
    "y_pred = knn_model.predict(X_test)"
   ]
  },
  {
   "cell_type": "code",
   "execution_count": 13,
   "metadata": {},
   "outputs": [
    {
     "data": {
      "text/plain": [
       "0.011637572734829594"
      ]
     },
     "execution_count": 13,
     "metadata": {},
     "output_type": "execute_result"
    }
   ],
   "source": [
    "accuracy_score(y_test, y_pred)"
   ]
  },
  {
   "cell_type": "code",
   "execution_count": 14,
   "metadata": {
    "collapsed": true,
    "jupyter": {
     "outputs_hidden": true
    },
    "tags": []
   },
   "outputs": [
    {
     "name": "stdout",
     "output_type": "stream",
     "text": [
      "              precision    recall  f1-score   support\n",
      "\n",
      "     75000.0       0.00      0.00      0.00         0\n",
      "     77000.0       0.00      0.00      0.00         0\n",
      "     79000.0       0.00      0.00      0.00         0\n",
      "     80000.0       0.00      0.00      0.00         1\n",
      "     99000.0       0.00      0.00      0.00         1\n",
      "    109000.0       0.00      0.00      0.00         1\n",
      "    110000.0       0.00      0.00      0.00         0\n",
      "    113000.0       0.00      0.00      0.00         2\n",
      "    115000.0       0.00      0.00      0.00         2\n",
      "    115500.0       0.00      0.00      0.00         0\n",
      "    117000.0       0.00      0.00      0.00         0\n",
      "    120000.0       0.00      0.00      0.00         3\n",
      "    125000.0       0.00      0.00      0.00         0\n",
      "    128000.0       0.00      0.00      0.00         0\n",
      "    130000.0       0.00      0.00      0.00         2\n",
      "    132000.0       0.00      0.00      0.00         1\n",
      "    135000.0       0.00      0.00      0.00         3\n",
      "    136000.0       0.00      0.00      0.00         1\n",
      "    137000.0       0.00      0.00      0.00         0\n",
      "    138000.0       0.00      0.00      0.00         0\n",
      "    139000.0       0.00      0.00      0.00         1\n",
      "    140000.0       0.00      0.00      0.00         1\n",
      "    143000.0       0.00      0.00      0.00         1\n",
      "    145000.0       0.00      0.00      0.00         3\n",
      "    146000.0       0.00      0.00      0.00         0\n",
      "    148000.0       0.00      0.00      0.00         0\n",
      "    149000.0       0.00      0.00      0.00         1\n",
      "    149900.0       0.00      0.00      0.00         0\n",
      "    150000.0       0.00      0.00      0.00         4\n",
      "    151000.0       0.00      0.00      0.00         0\n",
      "    152000.0       0.00      0.00      0.00         1\n",
      "    153000.0       0.00      0.00      0.00         1\n",
      "    153500.0       0.00      0.00      0.00         0\n",
      "    155000.0       0.00      0.00      0.00         4\n",
      "    156000.0       0.00      0.00      0.00         1\n",
      "    157000.0       0.00      0.00      0.00         0\n",
      "    157500.0       0.00      0.00      0.00         0\n",
      "    158000.0       0.00      0.00      0.00         1\n",
      "    159000.0       0.00      0.00      0.00         2\n",
      "    160000.0       0.00      0.00      0.00         2\n",
      "    161000.0       0.00      0.00      0.00         1\n",
      "    162000.0       0.00      0.00      0.00         0\n",
      "    163000.0       0.00      0.00      0.00         0\n",
      "    164000.0       0.00      0.00      0.00         0\n",
      "    165000.0       0.00      0.00      0.00         5\n",
      "    167000.0       0.00      0.00      0.00         0\n",
      "    168000.0       0.00      0.00      0.00         3\n",
      "    169000.0       0.00      0.00      0.00         0\n",
      "    169500.0       0.00      0.00      0.00         1\n",
      "    170000.0       0.00      0.00      0.00         8\n",
      "    171000.0       0.00      0.00      0.00         0\n",
      "    172000.0       0.00      0.00      0.00         0\n",
      "    173000.0       0.00      0.00      0.00         0\n",
      "    174000.0       0.00      0.00      0.00         1\n",
      "    175000.0       0.00      0.00      0.00         3\n",
      "    178000.0       0.00      0.00      0.00         0\n",
      "    179000.0       0.00      0.00      0.00         2\n",
      "    180000.0       0.00      0.00      0.00         4\n",
      "    182000.0       0.00      0.00      0.00         1\n",
      "    183500.0       0.00      0.00      0.00         1\n",
      "    184000.0       0.00      0.00      0.00         0\n",
      "    185000.0       0.00      0.00      0.00         3\n",
      "    187000.0       0.00      0.00      0.00         2\n",
      "    188000.0       0.00      0.00      0.00         1\n",
      "    190000.0       0.00      0.00      0.00         5\n",
      "    192000.0       0.00      0.00      0.00         0\n",
      "    193000.0       0.00      0.00      0.00         1\n",
      "    195000.0       0.00      0.00      0.00         7\n",
      "    197000.0       0.00      0.00      0.00         0\n",
      "    198000.0       0.00      0.00      0.00         4\n",
      "    199000.0       0.00      0.00      0.00         1\n",
      "    199900.0       0.00      0.00      0.00         0\n",
      "    200000.0       0.00      0.00      0.00         8\n",
      "    202000.0       0.00      0.00      0.00         1\n",
      "    203000.0       0.00      0.00      0.00         1\n",
      "    205000.0       0.00      0.00      0.00         3\n",
      "    208000.0       0.00      0.00      0.00         1\n",
      "    209000.0       0.00      0.00      0.00         2\n",
      "    210000.0       0.03      0.17      0.04         6\n",
      "    211000.0       0.00      0.00      0.00         0\n",
      "    213000.0       0.00      0.00      0.00         0\n",
      "    213500.0       0.00      0.00      0.00         0\n",
      "    214000.0       0.00      0.00      0.00         1\n",
      "    215000.0       0.00      0.00      0.00         7\n",
      "    216000.0       0.00      0.00      0.00         0\n",
      "    217000.0       0.00      0.00      0.00         1\n",
      "    218000.0       0.00      0.00      0.00         2\n",
      "    219000.0       0.00      0.00      0.00         1\n",
      "    219912.0       0.00      0.00      0.00         0\n",
      "    219999.0       0.00      0.00      0.00         1\n",
      "    220000.0       0.00      0.00      0.00         5\n",
      "    222500.0       0.00      0.00      0.00         0\n",
      "    224000.0       0.00      0.00      0.00         1\n",
      "    225000.0       0.03      0.11      0.04         9\n",
      "    225500.0       0.00      0.00      0.00         1\n",
      "    227000.0       0.00      0.00      0.00         2\n",
      "    227500.0       0.00      0.00      0.00         1\n",
      "    228000.0       0.00      0.00      0.00         0\n",
      "    229000.0       0.00      0.00      0.00         2\n",
      "    230000.0       0.00      0.00      0.00         1\n",
      "    232000.0       0.00      0.00      0.00         1\n",
      "    232500.0       0.00      0.00      0.00         1\n",
      "    233000.0       0.00      0.00      0.00         1\n",
      "    235000.0       0.00      0.00      0.00        10\n",
      "    238000.0       0.00      0.00      0.00         1\n",
      "    239000.0       0.00      0.00      0.00         0\n",
      "    240000.0       0.00      0.00      0.00         8\n",
      "    241500.0       0.00      0.00      0.00         0\n",
      "    242000.0       0.00      0.00      0.00         0\n",
      "    243000.0       0.00      0.00      0.00         0\n",
      "    244900.0       0.00      0.00      0.00         1\n",
      "    245000.0       0.05      0.08      0.06        13\n",
      "    247000.0       0.00      0.00      0.00         0\n",
      "    249000.0       0.00      0.00      0.00         1\n",
      "    249900.0       0.00      0.00      0.00         1\n",
      "    250000.0       0.00      0.00      0.00        13\n",
      "    252000.0       0.00      0.00      0.00         1\n",
      "    253000.0       0.00      0.00      0.00         1\n",
      "    254000.0       0.00      0.00      0.00         0\n",
      "    255000.0       0.00      0.00      0.00         9\n",
      "    257000.0       0.00      0.00      0.00         1\n",
      "    257500.0       0.00      0.00      0.00         1\n",
      "    258000.0       0.00      0.00      0.00         1\n",
      "    259000.0       0.00      0.00      0.00         1\n",
      "    260000.0       0.00      0.00      0.00        12\n",
      "    262000.0       0.00      0.00      0.00         0\n",
      "    263000.0       0.00      0.00      0.00         2\n",
      "    264000.0       0.00      0.00      0.00         1\n",
      "    265000.0       0.00      0.00      0.00         5\n",
      "    265500.0       0.00      0.00      0.00         1\n",
      "    267500.0       0.00      0.00      0.00         0\n",
      "    268000.0       0.00      0.00      0.00         0\n",
      "    269000.0       0.00      0.00      0.00         1\n",
      "    270000.0       0.05      0.12      0.07         8\n",
      "    274000.0       0.00      0.00      0.00         1\n",
      "    274500.0       0.00      0.00      0.00         0\n",
      "    275000.0       0.08      0.12      0.09        17\n",
      "    277500.0       0.00      0.00      0.00         1\n",
      "    279000.0       0.00      0.00      0.00         1\n",
      "    280000.0       0.00      0.00      0.00         6\n",
      "    282000.0       0.00      0.00      0.00         1\n",
      "    283000.0       0.00      0.00      0.00         0\n",
      "    284000.0       0.00      0.00      0.00         1\n",
      "    285000.0       0.07      0.06      0.06        17\n",
      "    286500.0       0.00      0.00      0.00         1\n",
      "    288000.0       0.00      0.00      0.00         0\n",
      "    289000.0       0.00      0.00      0.00         2\n",
      "    290000.0       0.00      0.00      0.00         3\n",
      "    292000.0       0.00      0.00      0.00         0\n",
      "    294000.0       0.00      0.00      0.00         1\n",
      "    295000.0       0.00      0.00      0.00         5\n",
      "    295750.0       0.00      0.00      0.00         1\n",
      "    297000.0       0.00      0.00      0.00         2\n",
      "    297500.0       0.00      0.00      0.00         0\n",
      "    298500.0       0.00      0.00      0.00         1\n",
      "    299000.0       0.00      0.00      0.00         7\n",
      "    299999.0       0.00      0.00      0.00         0\n",
      "    300000.0       0.00      0.00      0.00        18\n",
      "    301000.0       0.00      0.00      0.00         1\n",
      "    302500.0       0.00      0.00      0.00         1\n",
      "    305000.0       0.00      0.00      0.00         2\n",
      "    309000.0       0.00      0.00      0.00         2\n",
      "    310000.0       0.00      0.00      0.00        13\n",
      "    312000.0       0.00      0.00      0.00         1\n",
      "    313000.0       0.00      0.00      0.00         1\n",
      "    314900.0       0.00      0.00      0.00         0\n",
      "    315000.0       0.00      0.00      0.00         9\n",
      "    318000.0       0.00      0.00      0.00         0\n",
      "    319000.0       0.00      0.00      0.00         1\n",
      "    320000.0       0.00      0.00      0.00        19\n",
      "    325000.0       0.00      0.00      0.00        14\n",
      "    327500.0       0.00      0.00      0.00         1\n",
      "    328000.0       0.00      0.00      0.00         2\n",
      "    329000.0       0.00      0.00      0.00         1\n",
      "    330000.0       0.00      0.00      0.00        13\n",
      "    335000.0       0.00      0.00      0.00        11\n",
      "    337500.0       0.00      0.00      0.00         1\n",
      "    338000.0       0.00      0.00      0.00         1\n",
      "    339000.0       0.00      0.00      0.00         1\n",
      "    340000.0       0.00      0.00      0.00         8\n",
      "    345000.0       0.00      0.00      0.00        10\n",
      "    348000.0       0.00      0.00      0.00         3\n",
      "    349000.0       0.00      0.00      0.00         1\n",
      "    349900.0       0.00      0.00      0.00         0\n",
      "    350000.0       0.00      0.00      0.00        22\n",
      "    354000.0       0.00      0.00      0.00         0\n",
      "    355000.0       0.00      0.00      0.00         9\n",
      "    355555.0       0.00      0.00      0.00         1\n",
      "    357000.0       0.00      0.00      0.00         1\n",
      "    359000.0       1.00      0.25      0.40         4\n",
      "    360000.0       0.09      0.06      0.07        18\n",
      "    365000.0       0.00      0.00      0.00        12\n",
      "    367000.0       0.00      0.00      0.00         0\n",
      "    367500.0       0.00      0.00      0.00         1\n",
      "    368000.0       0.00      0.00      0.00         1\n",
      "    370000.0       0.00      0.00      0.00        10\n",
      "    372000.0       0.00      0.00      0.00         0\n",
      "    374000.0       0.00      0.00      0.00         1\n",
      "    375000.0       0.00      0.00      0.00        22\n",
      "    379000.0       0.00      0.00      0.00         1\n",
      "    379500.0       0.00      0.00      0.00         1\n",
      "    379999.0       0.00      0.00      0.00         0\n",
      "    380000.0       0.00      0.00      0.00        12\n",
      "    385000.0       0.00      0.00      0.00         5\n",
      "    388000.0       0.00      0.00      0.00         1\n",
      "    389000.0       0.00      0.00      0.00         1\n",
      "    390000.0       0.00      0.00      0.00         6\n",
      "    392500.0       0.00      0.00      0.00         1\n",
      "    394000.0       0.00      0.00      0.00         1\n",
      "    395000.0       0.00      0.00      0.00         9\n",
      "    398000.0       0.00      0.00      0.00         1\n",
      "    399000.0       0.00      0.00      0.00         1\n",
      "    400000.0       0.00      0.00      0.00        14\n",
      "    405000.0       0.00      0.00      0.00         0\n",
      "    407500.0       0.00      0.00      0.00         0\n",
      "    409000.0       0.00      0.00      0.00         1\n",
      "    409500.0       0.00      0.00      0.00         0\n",
      "    410000.0       0.00      0.00      0.00        13\n",
      "    412000.0       0.00      0.00      0.00         1\n",
      "    413000.0       0.00      0.00      0.00         1\n",
      "    415000.0       0.00      0.00      0.00        13\n",
      "    415500.0       0.00      0.00      0.00         1\n",
      "    416000.0       0.00      0.00      0.00         1\n",
      "    419000.0       0.00      0.00      0.00         0\n",
      "    420000.0       0.00      0.00      0.00        20\n",
      "    423000.0       0.00      0.00      0.00         1\n",
      "    425000.0       0.00      0.00      0.00        11\n",
      "    429000.0       0.00      0.00      0.00         1\n",
      "    430000.0       0.00      0.00      0.00         7\n",
      "    434000.0       0.00      0.00      0.00         0\n",
      "    435000.0       0.00      0.00      0.00         9\n",
      "    437000.0       0.00      0.00      0.00         1\n",
      "    439000.0       0.00      0.00      0.00         2\n",
      "    440000.0       0.00      0.00      0.00         3\n",
      "    441000.0       0.00      0.00      0.00         1\n",
      "    443000.0       0.00      0.00      0.00         1\n",
      "    445000.0       0.00      0.00      0.00         5\n",
      "    448000.0       0.00      0.00      0.00         2\n",
      "    449000.0       0.00      0.00      0.00         1\n",
      "    450000.0       0.00      0.00      0.00        22\n",
      "    451000.0       0.00      0.00      0.00         1\n",
      "    453000.0       0.00      0.00      0.00         1\n",
      "    455000.0       0.00      0.00      0.00         6\n",
      "    459000.0       0.00      0.00      0.00         2\n",
      "    460000.0       0.00      0.00      0.00        12\n",
      "    463000.0       0.00      0.00      0.00         1\n",
      "    464000.0       0.00      0.00      0.00         1\n",
      "    465000.0       0.20      0.11      0.14         9\n",
      "    466000.0       0.00      0.00      0.00         1\n",
      "    467000.0       0.00      0.00      0.00         1\n",
      "    468000.0       0.00      0.00      0.00         2\n",
      "    469000.0       0.00      0.00      0.00         0\n",
      "    470000.0       0.00      0.00      0.00         8\n",
      "    475000.0       0.00      0.00      0.00         6\n",
      "    480000.0       0.00      0.00      0.00         8\n",
      "    485000.0       0.00      0.00      0.00         5\n",
      "    489900.0       0.00      0.00      0.00         1\n",
      "    490000.0       0.00      0.00      0.00         5\n",
      "    495000.0       0.00      0.00      0.00         3\n",
      "    498000.0       0.00      0.00      0.00         2\n",
      "    499000.0       0.00      0.00      0.00         4\n",
      "    500000.0       0.00      0.00      0.00        15\n",
      "    501000.0       0.00      0.00      0.00         1\n",
      "    505000.0       0.00      0.00      0.00         0\n",
      "    507000.0       0.00      0.00      0.00         1\n",
      "    510000.0       0.00      0.00      0.00         2\n",
      "    515000.0       0.00      0.00      0.00         9\n",
      "    519000.0       0.00      0.00      0.00         2\n",
      "    520000.0       0.00      0.00      0.00         6\n",
      "    525000.0       0.00      0.00      0.00        13\n",
      "    528000.0       0.00      0.00      0.00         0\n",
      "    529000.0       0.00      0.00      0.00         1\n",
      "    530000.0       0.00      0.00      0.00         7\n",
      "    535000.0       0.00      0.00      0.00         1\n",
      "    540000.0       0.00      0.00      0.00         4\n",
      "    544000.0       0.00      0.00      0.00         1\n",
      "    545000.0       0.00      0.00      0.00         2\n",
      "    546000.0       0.00      0.00      0.00         0\n",
      "    548000.0       0.00      0.00      0.00         1\n",
      "    549000.0       0.00      0.00      0.00         5\n",
      "    550000.0       0.19      0.11      0.14        27\n",
      "    555000.0       0.00      0.00      0.00         2\n",
      "    560000.0       0.00      0.00      0.00         6\n",
      "    561000.0       0.00      0.00      0.00         0\n",
      "    565000.0       0.00      0.00      0.00         4\n",
      "    569000.0       0.00      0.00      0.00         1\n",
      "    570000.0       0.00      0.00      0.00         4\n",
      "    575000.0       0.00      0.00      0.00        11\n",
      "    580000.0       0.00      0.00      0.00         8\n",
      "    585000.0       0.00      0.00      0.00         2\n",
      "    589000.0       0.00      0.00      0.00         1\n",
      "    590000.0       0.00      0.00      0.00         3\n",
      "    592500.0       0.00      0.00      0.00         1\n",
      "    595000.0       0.00      0.00      0.00         4\n",
      "    599000.0       0.00      0.00      0.00         3\n",
      "    600000.0       0.00      0.00      0.00         8\n",
      "    610000.0       0.00      0.00      0.00         5\n",
      "    612000.0       0.00      0.00      0.00         1\n",
      "    615000.0       0.00      0.00      0.00         2\n",
      "    620000.0       0.00      0.00      0.00         3\n",
      "    625000.0       0.00      0.00      0.00         8\n",
      "    629000.0       0.00      0.00      0.00         2\n",
      "    630000.0       0.00      0.00      0.00         3\n",
      "    635000.0       0.33      1.00      0.50         1\n",
      "    640000.0       0.00      0.00      0.00         8\n",
      "    644000.0       0.00      0.00      0.00         1\n",
      "    644900.0       0.00      0.00      0.00         1\n",
      "    645000.0       0.00      0.00      0.00         2\n",
      "    650000.0       0.00      0.00      0.00        16\n",
      "    652000.0       0.00      0.00      0.00         1\n",
      "    655000.0       0.00      0.00      0.00         1\n",
      "    659000.0       0.00      0.00      0.00         1\n",
      "    660000.0       0.00      0.00      0.00         1\n",
      "    670000.0       0.00      0.00      0.00         3\n",
      "    675000.0       0.00      0.00      0.00        11\n",
      "    680000.0       0.00      0.00      0.00         3\n",
      "    685000.0       0.00      0.00      0.00         6\n",
      "    690000.0       0.00      0.00      0.00         7\n",
      "    695000.0       0.00      0.00      0.00         5\n",
      "    699000.0       0.00      0.00      0.00         3\n",
      "    700000.0       0.00      0.00      0.00         8\n",
      "    710000.0       0.00      0.00      0.00         4\n",
      "    715000.0       0.00      0.00      0.00         3\n",
      "    720000.0       0.00      0.00      0.00         4\n",
      "    725000.0       0.00      0.00      0.00         5\n",
      "    730000.0       0.00      0.00      0.00         7\n",
      "    740000.0       0.00      0.00      0.00         1\n",
      "    745000.0       0.00      0.00      0.00         2\n",
      "    749000.0       0.00      0.00      0.00         1\n",
      "    750000.0       0.00      0.00      0.00        13\n",
      "    760000.0       0.00      0.00      0.00         1\n",
      "    765000.0       0.00      0.00      0.00         2\n",
      "    775000.0       0.00      0.00      0.00         5\n",
      "    780000.0       0.00      0.00      0.00         1\n",
      "    785000.0       0.00      0.00      0.00         1\n",
      "    790000.0       0.00      0.00      0.00         1\n",
      "    795000.0       0.00      0.00      0.00         1\n",
      "    800000.0       0.00      0.00      0.00         9\n",
      "    805000.0       0.00      0.00      0.00         1\n",
      "    810000.0       0.00      0.00      0.00         1\n",
      "    820000.0       0.00      0.00      0.00         2\n",
      "    830000.0       0.00      0.00      0.00         1\n",
      "    835000.0       0.00      0.00      0.00         2\n",
      "    840000.0       0.00      0.00      0.00         1\n",
      "    845000.0       0.00      0.00      0.00         1\n",
      "    849000.0       0.00      0.00      0.00         2\n",
      "    850000.0       0.00      0.00      0.00        16\n",
      "    855000.0       0.00      0.00      0.00         1\n",
      "    858000.0       0.00      0.00      0.00         1\n",
      "    860000.0       0.00      0.00      0.00         0\n",
      "    869000.0       0.00      0.00      0.00         1\n",
      "    870000.0       0.00      0.00      0.00         3\n",
      "    875000.0       0.00      0.00      0.00         2\n",
      "    880000.0       0.00      0.00      0.00         1\n",
      "    889000.0       0.00      0.00      0.00         2\n",
      "    899000.0       0.00      0.00      0.00         3\n",
      "    900000.0       0.00      0.00      0.00         8\n",
      "    907500.0       0.00      0.00      0.00         1\n",
      "    920000.0       0.00      0.00      0.00         2\n",
      "    925000.0       0.00      0.00      0.00         3\n",
      "    935000.0       0.00      0.00      0.00         2\n",
      "    940000.0       0.00      0.00      0.00         1\n",
      "    945000.0       0.00      0.00      0.00         1\n",
      "    949000.0       0.00      0.00      0.00         1\n",
      "    950000.0       0.00      0.00      0.00         6\n",
      "    964000.0       0.00      0.00      0.00         1\n",
      "    965000.0       0.00      0.00      0.00         1\n",
      "    970000.0       0.00      0.00      0.00         1\n",
      "    975000.0       0.00      0.00      0.00         2\n",
      "    980000.0       0.00      0.00      0.00         3\n",
      "    985000.0       0.00      0.00      0.00         3\n",
      "    987000.0       0.00      0.00      0.00         1\n",
      "    995000.0       0.00      0.00      0.00         1\n",
      "    999000.0       0.00      0.00      0.00         1\n",
      "\n",
      "    accuracy                           0.01      1203\n",
      "   macro avg       0.01      0.01      0.00      1203\n",
      "weighted avg       0.01      0.01      0.01      1203\n",
      "\n"
     ]
    }
   ],
   "source": [
    "print(classification_report(y_test, y_pred))"
   ]
  },
  {
   "cell_type": "code",
   "execution_count": 15,
   "metadata": {},
   "outputs": [
    {
     "data": {
      "text/plain": [
       "0.011637572734829594"
      ]
     },
     "execution_count": 15,
     "metadata": {},
     "output_type": "execute_result"
    }
   ],
   "source": [
    "knn_model.score(X_test,y_test)"
   ]
  },
  {
   "cell_type": "markdown",
   "metadata": {},
   "source": [
    "## Model Tuning"
   ]
  },
  {
   "cell_type": "code",
   "execution_count": null,
   "metadata": {},
   "outputs": [],
   "source": [
    "knn_params = {\"n_neighbors\": np.arange(1,50)}"
   ]
  },
  {
   "cell_type": "code",
   "execution_count": null,
   "metadata": {},
   "outputs": [],
   "source": [
    "knn = KNeighborsClassifier()\n",
    "knn_cv = GridSearchCV(knn, knn_params, cv=10)\n",
    "knn_cv.fit(X_train, y_train)"
   ]
  },
  {
   "cell_type": "code",
   "execution_count": null,
   "metadata": {},
   "outputs": [],
   "source": [
    "print(\"En iyi skor:\" + str(knn_cv.best_score_))\n",
    "print(\"En iyi parametreler: \" + str(knn_cv.best_params_))"
   ]
  },
  {
   "cell_type": "code",
   "execution_count": null,
   "metadata": {},
   "outputs": [],
   "source": []
  },
  {
   "cell_type": "code",
   "execution_count": null,
   "metadata": {},
   "outputs": [],
   "source": [
    "knn = KNeighborsClassifier(11)\n",
    "knn_tuned = knn.fit(X_train, y_train)"
   ]
  },
  {
   "cell_type": "code",
   "execution_count": null,
   "metadata": {},
   "outputs": [],
   "source": [
    "knn_tuned.score(X_test, y_test)"
   ]
  },
  {
   "cell_type": "code",
   "execution_count": null,
   "metadata": {},
   "outputs": [],
   "source": [
    "y_pred = knn_tuned.predict(X_test)"
   ]
  },
  {
   "cell_type": "code",
   "execution_count": null,
   "metadata": {},
   "outputs": [],
   "source": [
    "accuracy_score(y_test, y_pred)"
   ]
  },
  {
   "cell_type": "markdown",
   "metadata": {},
   "source": [
    "# SVC"
   ]
  },
  {
   "cell_type": "markdown",
   "metadata": {},
   "source": [
    "## Model & Tahmin"
   ]
  },
  {
   "cell_type": "code",
   "execution_count": null,
   "metadata": {},
   "outputs": [],
   "source": [
    "svm_model = SVC(kernel = \"linear\").fit(X_train, y_train)"
   ]
  },
  {
   "cell_type": "code",
   "execution_count": null,
   "metadata": {},
   "outputs": [],
   "source": [
    "svm_model"
   ]
  },
  {
   "cell_type": "code",
   "execution_count": null,
   "metadata": {},
   "outputs": [],
   "source": [
    "y_pred = svm_model.predict(X_test)"
   ]
  },
  {
   "cell_type": "code",
   "execution_count": null,
   "metadata": {},
   "outputs": [],
   "source": [
    "accuracy_score(y_test, y_pred)"
   ]
  },
  {
   "cell_type": "markdown",
   "metadata": {},
   "source": [
    "## Model Tuning"
   ]
  },
  {
   "cell_type": "code",
   "execution_count": null,
   "metadata": {},
   "outputs": [],
   "source": [
    "svc_params = {\"C\": np.arange(1,10)}\n",
    "\n",
    "svc = SVC(kernel = \"linear\")\n",
    "\n",
    "svc_cv_model = GridSearchCV(svc,svc_params, \n",
    "                            cv = 10, \n",
    "                            n_jobs = -1, \n",
    "                            verbose = 2 )\n",
    "\n",
    "svc_cv_model.fit(X_train, y_train)"
   ]
  },
  {
   "cell_type": "code",
   "execution_count": null,
   "metadata": {},
   "outputs": [],
   "source": [
    "print(\"En iyi parametreler: \" + str(svc_cv_model.best_params_))"
   ]
  },
  {
   "cell_type": "code",
   "execution_count": null,
   "metadata": {},
   "outputs": [],
   "source": []
  },
  {
   "cell_type": "code",
   "execution_count": null,
   "metadata": {},
   "outputs": [],
   "source": [
    "svc_tuned = SVC(kernel = \"linear\", C = 5).fit(X_train, y_train)"
   ]
  },
  {
   "cell_type": "code",
   "execution_count": null,
   "metadata": {},
   "outputs": [],
   "source": [
    "y_pred = svc_tuned.predict(X_test)\n",
    "accuracy_score(y_test, y_pred)"
   ]
  },
  {
   "cell_type": "markdown",
   "metadata": {},
   "source": [
    "# RBF SVC"
   ]
  },
  {
   "cell_type": "markdown",
   "metadata": {},
   "source": [
    "## Model & Tahmin"
   ]
  },
  {
   "cell_type": "code",
   "execution_count": null,
   "metadata": {},
   "outputs": [],
   "source": [
    "svc_model = SVC(kernel = \"rbf\").fit(X_train, y_train)"
   ]
  },
  {
   "cell_type": "code",
   "execution_count": null,
   "metadata": {},
   "outputs": [],
   "source": [
    "svc_model"
   ]
  },
  {
   "cell_type": "code",
   "execution_count": null,
   "metadata": {},
   "outputs": [],
   "source": [
    "y_pred = svc_model.predict(X_test)\n",
    "accuracy_score(y_test, y_pred)"
   ]
  },
  {
   "cell_type": "markdown",
   "metadata": {},
   "source": [
    "## Model Tuning"
   ]
  },
  {
   "cell_type": "code",
   "execution_count": null,
   "metadata": {},
   "outputs": [],
   "source": [
    "svc_params = {\"C\": [0.0001, 0.001, 0.1, 1, 5, 10 ,50 ,100],\n",
    "             \"gamma\": [0.0001, 0.001, 0.1, 1, 5, 10 ,50 ,100]}"
   ]
  },
  {
   "cell_type": "code",
   "execution_count": null,
   "metadata": {},
   "outputs": [],
   "source": [
    "svc = SVC()\n",
    "svc_cv_model = GridSearchCV(svc, svc_params, \n",
    "                         cv = 10, \n",
    "                         n_jobs = -1,\n",
    "                         verbose = 2)\n",
    "\n",
    "svc_cv_model.fit(X_train, y_train)"
   ]
  },
  {
   "cell_type": "code",
   "execution_count": null,
   "metadata": {},
   "outputs": [],
   "source": [
    "print(\"En iyi parametreler: \" + str(svc_cv_model.best_params_))"
   ]
  },
  {
   "cell_type": "code",
   "execution_count": null,
   "metadata": {},
   "outputs": [],
   "source": [
    "svc_tuned = SVC(C = 10, gamma = 0.0001).fit(X_train, y_train)"
   ]
  },
  {
   "cell_type": "code",
   "execution_count": null,
   "metadata": {},
   "outputs": [],
   "source": [
    "y_pred = svc_tuned.predict(X_test)\n",
    "accuracy_score(y_test, y_pred)"
   ]
  },
  {
   "cell_type": "markdown",
   "metadata": {},
   "source": [
    "# Yapay Sinir Ağları"
   ]
  },
  {
   "cell_type": "markdown",
   "metadata": {},
   "source": [
    "## Model & Tahmin"
   ]
  },
  {
   "cell_type": "code",
   "execution_count": null,
   "metadata": {},
   "outputs": [],
   "source": [
    "df = diabetes.copy()\n",
    "df = df.dropna()\n",
    "y = df[\"Outcome\"]\n",
    "X = df.drop(['Outcome'], axis=1)\n",
    "X_train, X_test, y_train, y_test = train_test_split(X, y, \n",
    "                                                    test_size=0.30, \n",
    "                                                    random_state=42)"
   ]
  },
  {
   "cell_type": "code",
   "execution_count": null,
   "metadata": {},
   "outputs": [],
   "source": [
    "from sklearn.preprocessing import StandardScaler  "
   ]
  },
  {
   "cell_type": "code",
   "execution_count": null,
   "metadata": {},
   "outputs": [],
   "source": [
    "scaler = StandardScaler()"
   ]
  },
  {
   "cell_type": "code",
   "execution_count": null,
   "metadata": {},
   "outputs": [],
   "source": [
    "scaler.fit(X_train)\n",
    "X_train_scaled = scaler.transform(X_train)\n",
    "X_test_scaled = scaler.transform(X_test)"
   ]
  },
  {
   "cell_type": "code",
   "execution_count": null,
   "metadata": {},
   "outputs": [],
   "source": [
    "X_test_scaled[0:5]"
   ]
  },
  {
   "cell_type": "code",
   "execution_count": null,
   "metadata": {},
   "outputs": [],
   "source": [
    "from sklearn.neural_network import MLPClassifier"
   ]
  },
  {
   "cell_type": "code",
   "execution_count": null,
   "metadata": {},
   "outputs": [],
   "source": [
    "mlpc = MLPClassifier().fit(X_train_scaled, y_train)"
   ]
  },
  {
   "cell_type": "code",
   "execution_count": null,
   "metadata": {},
   "outputs": [],
   "source": [
    "y_pred = mlpc.predict(X_test_scaled)\n",
    "accuracy_score(y_test, y_pred)"
   ]
  },
  {
   "cell_type": "markdown",
   "metadata": {},
   "source": [
    "## Model Tuning"
   ]
  },
  {
   "cell_type": "code",
   "execution_count": null,
   "metadata": {},
   "outputs": [],
   "source": [
    "mlpc"
   ]
  },
  {
   "cell_type": "code",
   "execution_count": null,
   "metadata": {},
   "outputs": [],
   "source": [
    "?mlpc"
   ]
  },
  {
   "cell_type": "code",
   "execution_count": null,
   "metadata": {},
   "outputs": [],
   "source": [
    "mlpc_params = {\"alpha\": [0.1, 0.01, 0.02, 0.005, 0.0001,0.00001],\n",
    "              \"hidden_layer_sizes\": [(10,10,10),\n",
    "                                     (100,100,100),\n",
    "                                     (100,100),\n",
    "                                     (3,5), \n",
    "                                     (5, 3)],\n",
    "              \"solver\" : [\"lbfgs\",\"adam\",\"sgd\"],\n",
    "              \"activation\": [\"relu\",\"logistic\"]}\n"
   ]
  },
  {
   "cell_type": "code",
   "execution_count": null,
   "metadata": {},
   "outputs": [],
   "source": [
    "mlpc = MLPClassifier()\n",
    "mlpc_cv_model = GridSearchCV(mlpc, mlpc_params, \n",
    "                         cv = 10, \n",
    "                         n_jobs = -1,\n",
    "                         verbose = 2)\n",
    "\n",
    "mlpc_cv_model.fit(X_train_scaled, y_train)"
   ]
  },
  {
   "cell_type": "code",
   "execution_count": null,
   "metadata": {},
   "outputs": [],
   "source": [
    "print(\"En iyi parametreler: \" + str(mlpc_cv_model.best_params_))"
   ]
  },
  {
   "cell_type": "code",
   "execution_count": null,
   "metadata": {},
   "outputs": [],
   "source": [
    "mlpc_tuned = MLPClassifier(activation = \"logistic\", \n",
    "                           alpha = 0.1, \n",
    "                           hidden_layer_sizes = (100, 100, 100),\n",
    "                          solver = \"adam\")"
   ]
  },
  {
   "cell_type": "code",
   "execution_count": null,
   "metadata": {},
   "outputs": [],
   "source": [
    "mlpc_tuned.fit(X_train_scaled, y_train)"
   ]
  },
  {
   "cell_type": "code",
   "execution_count": null,
   "metadata": {},
   "outputs": [],
   "source": [
    "y_pred = mlpc_tuned.predict(X_test_scaled)\n",
    "accuracy_score(y_test, y_pred)"
   ]
  },
  {
   "cell_type": "markdown",
   "metadata": {},
   "source": [
    "# CART"
   ]
  },
  {
   "cell_type": "markdown",
   "metadata": {},
   "source": [
    "## Model & Tahmin"
   ]
  },
  {
   "cell_type": "code",
   "execution_count": null,
   "metadata": {},
   "outputs": [],
   "source": [
    "df = diabetes.copy()\n",
    "df = df.dropna()\n",
    "y = df[\"Outcome\"]\n",
    "X = df.drop(['Outcome'], axis=1)\n",
    "#X = df[\"Pregnancies\"]\n",
    "X = pd.DataFrame(X)\n",
    "X_train, X_test, y_train, y_test = train_test_split(X, y, \n",
    "                                                    test_size=0.30, \n",
    "                                                    random_state=42)"
   ]
  },
  {
   "cell_type": "code",
   "execution_count": null,
   "metadata": {},
   "outputs": [],
   "source": [
    "from sklearn.tree import DecisionTreeClassifier"
   ]
  },
  {
   "cell_type": "code",
   "execution_count": null,
   "metadata": {},
   "outputs": [],
   "source": [
    "cart = DecisionTreeClassifier()\n",
    "cart_model = cart.fit(X_train, y_train)"
   ]
  },
  {
   "cell_type": "code",
   "execution_count": null,
   "metadata": {},
   "outputs": [],
   "source": [
    "cart_model"
   ]
  },
  {
   "cell_type": "code",
   "execution_count": null,
   "metadata": {},
   "outputs": [],
   "source": [
    "#!pip install skompiler\n",
    "from skompiler import skompile\n",
    "print(skompile(cart_model.predict).to(\"python/code\"))"
   ]
  },
  {
   "cell_type": "code",
   "execution_count": null,
   "metadata": {},
   "outputs": [],
   "source": [
    "x = [9]"
   ]
  },
  {
   "cell_type": "code",
   "execution_count": null,
   "metadata": {},
   "outputs": [],
   "source": [
    "((0 if x[0] <= 2.5 else 0) if x[0] <= 6.5 else 1 if x[0] <= 13.5 else 1)"
   ]
  },
  {
   "cell_type": "code",
   "execution_count": null,
   "metadata": {},
   "outputs": [],
   "source": [
    "y_pred = cart_model.predict(X_test)\n",
    "accuracy_score(y_test, y_pred)"
   ]
  },
  {
   "cell_type": "markdown",
   "metadata": {},
   "source": [
    "## Model Tuning"
   ]
  },
  {
   "cell_type": "code",
   "execution_count": null,
   "metadata": {},
   "outputs": [],
   "source": [
    "cart_model"
   ]
  },
  {
   "cell_type": "code",
   "execution_count": null,
   "metadata": {},
   "outputs": [],
   "source": [
    "?cart_model"
   ]
  },
  {
   "cell_type": "code",
   "execution_count": null,
   "metadata": {},
   "outputs": [],
   "source": [
    "cart_grid = {\"max_depth\": range(1,10),\n",
    "            \"min_samples_split\" : list(range(2,50)) }"
   ]
  },
  {
   "cell_type": "code",
   "execution_count": null,
   "metadata": {},
   "outputs": [],
   "source": [
    "cart = tree.DecisionTreeClassifier()\n",
    "cart_cv = GridSearchCV(cart, cart_grid, cv = 10, n_jobs = -1, verbose = 2)\n",
    "cart_cv_model = cart_cv.fit(X_train, y_train)"
   ]
  },
  {
   "cell_type": "code",
   "execution_count": null,
   "metadata": {},
   "outputs": [],
   "source": [
    "print(\"En iyi parametreler: \" + str(cart_cv_model.best_params_))"
   ]
  },
  {
   "cell_type": "code",
   "execution_count": null,
   "metadata": {},
   "outputs": [],
   "source": [
    "#final"
   ]
  },
  {
   "cell_type": "code",
   "execution_count": null,
   "metadata": {},
   "outputs": [],
   "source": [
    "cart = tree.DecisionTreeClassifier(max_depth = 5, min_samples_split = 19)\n",
    "cart_tuned = cart.fit(X_train, y_train)"
   ]
  },
  {
   "cell_type": "code",
   "execution_count": null,
   "metadata": {},
   "outputs": [],
   "source": [
    "y_pred = cart_tuned.predict(X_test)\n",
    "accuracy_score(y_test, y_pred)"
   ]
  },
  {
   "cell_type": "markdown",
   "metadata": {},
   "source": [
    "# Random Forests"
   ]
  },
  {
   "cell_type": "code",
   "execution_count": null,
   "metadata": {},
   "outputs": [],
   "source": [
    "df = diabetes.copy()\n",
    "df = df.dropna()\n",
    "y = df[\"Outcome\"]\n",
    "X = df.drop(['Outcome'], axis=1)\n",
    "#X = df[\"Pregnancies\"]\n",
    "X = pd.DataFrame(X)\n",
    "X_train, X_test, y_train, y_test = train_test_split(X, y, \n",
    "                                                    test_size=0.30, \n",
    "                                                    random_state=42)"
   ]
  },
  {
   "cell_type": "code",
   "execution_count": null,
   "metadata": {},
   "outputs": [],
   "source": [
    "from sklearn.ensemble import RandomForestClassifier"
   ]
  },
  {
   "cell_type": "code",
   "execution_count": null,
   "metadata": {},
   "outputs": [],
   "source": [
    "rf_model = RandomForestClassifier().fit(X_train, y_train)"
   ]
  },
  {
   "cell_type": "code",
   "execution_count": null,
   "metadata": {},
   "outputs": [],
   "source": [
    "rf_model"
   ]
  },
  {
   "cell_type": "code",
   "execution_count": null,
   "metadata": {},
   "outputs": [],
   "source": [
    "y_pred = rf_model.predict(X_test)\n",
    "accuracy_score(y_test, y_pred)"
   ]
  },
  {
   "cell_type": "markdown",
   "metadata": {},
   "source": [
    "## Model Tuning"
   ]
  },
  {
   "cell_type": "code",
   "execution_count": null,
   "metadata": {},
   "outputs": [],
   "source": [
    "rf_model"
   ]
  },
  {
   "cell_type": "code",
   "execution_count": null,
   "metadata": {},
   "outputs": [],
   "source": [
    "?rf_model"
   ]
  },
  {
   "cell_type": "code",
   "execution_count": null,
   "metadata": {},
   "outputs": [],
   "source": [
    "rf_params = {\"max_depth\": [2,5,8,10],\n",
    "            \"max_features\": [2,5,8],\n",
    "            \"n_estimators\": [10,500,1000],\n",
    "            \"min_samples_split\": [2,5,10]}"
   ]
  },
  {
   "cell_type": "code",
   "execution_count": null,
   "metadata": {},
   "outputs": [],
   "source": [
    "rf_model = RandomForestClassifier()\n",
    "\n",
    "rf_cv_model = GridSearchCV(rf_model, \n",
    "                           rf_params, \n",
    "                           cv = 10, \n",
    "                           n_jobs = -1, \n",
    "                           verbose = 2) "
   ]
  },
  {
   "cell_type": "code",
   "execution_count": null,
   "metadata": {},
   "outputs": [],
   "source": [
    "rf_cv_model.fit(X_train, y_train)"
   ]
  },
  {
   "cell_type": "code",
   "execution_count": null,
   "metadata": {},
   "outputs": [],
   "source": [
    "print(\"En iyi parametreler: \" + str(rf_cv_model.best_params_))"
   ]
  },
  {
   "cell_type": "code",
   "execution_count": null,
   "metadata": {},
   "outputs": [],
   "source": [
    "#final"
   ]
  },
  {
   "cell_type": "code",
   "execution_count": null,
   "metadata": {},
   "outputs": [],
   "source": [
    "rf_tuned = RandomForestClassifier(max_depth = 10, \n",
    "                                  max_features = 8, \n",
    "                                  min_samples_split = 10,\n",
    "                                  n_estimators = 1000)\n",
    "\n",
    "rf_tuned.fit(X_train, y_train)"
   ]
  },
  {
   "cell_type": "code",
   "execution_count": null,
   "metadata": {},
   "outputs": [],
   "source": [
    "y_pred = rf_tuned.predict(X_test)\n",
    "accuracy_score(y_test, y_pred)"
   ]
  },
  {
   "cell_type": "code",
   "execution_count": null,
   "metadata": {},
   "outputs": [],
   "source": [
    "Importance = pd.DataFrame({\"Importance\": rf_tuned.feature_importances_*100},\n",
    "                         index = X_train.columns)"
   ]
  },
  {
   "cell_type": "code",
   "execution_count": null,
   "metadata": {},
   "outputs": [],
   "source": [
    "Importance.sort_values(by = \"Importance\", \n",
    "                       axis = 0, \n",
    "                       ascending = True).plot(kind =\"barh\", color = \"r\")\n",
    "\n",
    "plt.xlabel(\"Değişken Önem Düzeyleri\")"
   ]
  },
  {
   "cell_type": "markdown",
   "metadata": {},
   "source": [
    "# Gradient Boosting Machines"
   ]
  },
  {
   "cell_type": "code",
   "execution_count": null,
   "metadata": {},
   "outputs": [],
   "source": [
    "df = diabetes.copy()\n",
    "df = df.dropna()\n",
    "y = df[\"Outcome\"]\n",
    "X = df.drop(['Outcome'], axis=1)\n",
    "#X = df[\"Pregnancies\"]\n",
    "X = pd.DataFrame(X)\n",
    "X_train, X_test, y_train, y_test = train_test_split(X, y, \n",
    "                                                    test_size=0.30, \n",
    "                                                    random_state=42)"
   ]
  },
  {
   "cell_type": "code",
   "execution_count": null,
   "metadata": {},
   "outputs": [],
   "source": [
    "from sklearn.ensemble import GradientBoostingClassifier"
   ]
  },
  {
   "cell_type": "code",
   "execution_count": null,
   "metadata": {},
   "outputs": [],
   "source": [
    "gbm_model = GradientBoostingClassifier().fit(X_train, y_train)"
   ]
  },
  {
   "cell_type": "code",
   "execution_count": null,
   "metadata": {},
   "outputs": [],
   "source": [
    "y_pred = gbm_model.predict(X_test)\n",
    "accuracy_score(y_test, y_pred)"
   ]
  },
  {
   "cell_type": "markdown",
   "metadata": {},
   "source": [
    "## Model Tuning"
   ]
  },
  {
   "cell_type": "code",
   "execution_count": null,
   "metadata": {},
   "outputs": [],
   "source": [
    "gbm_model"
   ]
  },
  {
   "cell_type": "code",
   "execution_count": null,
   "metadata": {},
   "outputs": [],
   "source": [
    "?gbm_model"
   ]
  },
  {
   "cell_type": "code",
   "execution_count": null,
   "metadata": {},
   "outputs": [],
   "source": [
    "gbm_params = {\"learning_rate\" : [0.001, 0.01, 0.1, 0.05],\n",
    "             \"n_estimators\": [100,500,100],\n",
    "             \"max_depth\": [3,5,10],\n",
    "             \"min_samples_split\": [2,5,10]}"
   ]
  },
  {
   "cell_type": "code",
   "execution_count": null,
   "metadata": {},
   "outputs": [],
   "source": [
    "gbm = GradientBoostingClassifier()\n",
    "\n",
    "gbm_cv = GridSearchCV(gbm, gbm_params, cv = 10, n_jobs = -1, verbose = 2)"
   ]
  },
  {
   "cell_type": "code",
   "execution_count": null,
   "metadata": {},
   "outputs": [],
   "source": [
    "gbm_cv.fit(X_train, y_train)"
   ]
  },
  {
   "cell_type": "code",
   "execution_count": null,
   "metadata": {},
   "outputs": [],
   "source": [
    "print(\"En iyi parametreler: \" + str(gbm_cv.best_params_))"
   ]
  },
  {
   "cell_type": "code",
   "execution_count": null,
   "metadata": {},
   "outputs": [],
   "source": [
    "gbm = GradientBoostingClassifier(learning_rate = 0.01, \n",
    "                                 max_depth = 3,\n",
    "                                min_samples_split = 5,\n",
    "                                n_estimators = 500)"
   ]
  },
  {
   "cell_type": "code",
   "execution_count": null,
   "metadata": {},
   "outputs": [],
   "source": [
    "gbm_tuned =  gbm.fit(X_train,y_train)"
   ]
  },
  {
   "cell_type": "code",
   "execution_count": null,
   "metadata": {},
   "outputs": [],
   "source": [
    "y_pred = gbm_tuned.predict(X_test)\n",
    "accuracy_score(y_test, y_pred)"
   ]
  },
  {
   "cell_type": "markdown",
   "metadata": {},
   "source": [
    "# XGBoost"
   ]
  },
  {
   "cell_type": "code",
   "execution_count": null,
   "metadata": {},
   "outputs": [],
   "source": [
    "df = diabetes.copy()\n",
    "df = df.dropna()\n",
    "y = df[\"Outcome\"]\n",
    "X = df.drop(['Outcome'], axis=1)\n",
    "#X = df[\"Pregnancies\"]\n",
    "X = pd.DataFrame(X)\n",
    "X_train, X_test, y_train, y_test = train_test_split(X, y, \n",
    "                                                    test_size=0.30, \n",
    "                                                    random_state=42)"
   ]
  },
  {
   "cell_type": "code",
   "execution_count": null,
   "metadata": {},
   "outputs": [],
   "source": [
    "#!pip install xgboost\n",
    "from xgboost import XGBClassifier"
   ]
  },
  {
   "cell_type": "code",
   "execution_count": null,
   "metadata": {},
   "outputs": [],
   "source": [
    "xgb_model = XGBClassifier().fit(X_train, y_train)"
   ]
  },
  {
   "cell_type": "code",
   "execution_count": null,
   "metadata": {},
   "outputs": [],
   "source": [
    "xgb_model"
   ]
  },
  {
   "cell_type": "code",
   "execution_count": null,
   "metadata": {},
   "outputs": [],
   "source": [
    "y_pred = xgb_model.predict(X_test)\n",
    "accuracy_score(y_test, y_pred)"
   ]
  },
  {
   "cell_type": "markdown",
   "metadata": {},
   "source": [
    "## Model Tuning"
   ]
  },
  {
   "cell_type": "code",
   "execution_count": null,
   "metadata": {},
   "outputs": [],
   "source": [
    "xgb_model"
   ]
  },
  {
   "cell_type": "code",
   "execution_count": null,
   "metadata": {},
   "outputs": [],
   "source": [
    "?xgb_model"
   ]
  },
  {
   "cell_type": "code",
   "execution_count": null,
   "metadata": {},
   "outputs": [],
   "source": [
    "xgb_params = {\n",
    "        'n_estimators': [100, 500, 1000, 2000],\n",
    "        'subsample': [0.6, 0.8, 1.0],\n",
    "        'max_depth': [3, 4, 5,6],\n",
    "        'learning_rate': [0.1,0.01,0.02,0.05],\n",
    "        \"min_samples_split\": [2,5,10]}"
   ]
  },
  {
   "cell_type": "code",
   "execution_count": null,
   "metadata": {},
   "outputs": [],
   "source": [
    "xgb = XGBClassifier()\n",
    "\n",
    "xgb_cv_model = GridSearchCV(xgb, xgb_params, cv = 10, n_jobs = -1, verbose = 2)"
   ]
  },
  {
   "cell_type": "code",
   "execution_count": null,
   "metadata": {},
   "outputs": [],
   "source": [
    "xgb_cv_model.fit(X_train, y_train)"
   ]
  },
  {
   "cell_type": "code",
   "execution_count": null,
   "metadata": {},
   "outputs": [],
   "source": [
    "xgb_cv_model.best_params_"
   ]
  },
  {
   "cell_type": "code",
   "execution_count": null,
   "metadata": {},
   "outputs": [],
   "source": [
    "xgb = XGBClassifier(learning_rate = 0.01, \n",
    "                    max_depth = 6,\n",
    "                    min_samples_split = 2,\n",
    "                    n_estimators = 100,\n",
    "                    subsample = 0.8)"
   ]
  },
  {
   "cell_type": "code",
   "execution_count": null,
   "metadata": {},
   "outputs": [],
   "source": [
    "xgb_tuned =  xgb.fit(X_train,y_train)"
   ]
  },
  {
   "cell_type": "code",
   "execution_count": null,
   "metadata": {},
   "outputs": [],
   "source": [
    "y_pred = xgb_tuned.predict(X_test)\n",
    "accuracy_score(y_test, y_pred)"
   ]
  },
  {
   "cell_type": "markdown",
   "metadata": {},
   "source": [
    "# LightGBM"
   ]
  },
  {
   "cell_type": "code",
   "execution_count": null,
   "metadata": {},
   "outputs": [],
   "source": [
    "df = diabetes.copy()\n",
    "df = df.dropna()\n",
    "y = df[\"Outcome\"]\n",
    "X = df.drop(['Outcome'], axis=1)\n",
    "#X = df[\"Pregnancies\"]\n",
    "X = pd.DataFrame(X)\n",
    "X_train, X_test, y_train, y_test = train_test_split(X, y, \n",
    "                                                    test_size=0.30, \n",
    "                                                    random_state=42)"
   ]
  },
  {
   "cell_type": "code",
   "execution_count": null,
   "metadata": {},
   "outputs": [],
   "source": [
    "#!conda install -c conda-forge lightgbm\n",
    "from lightgbm import LGBMClassifier"
   ]
  },
  {
   "cell_type": "code",
   "execution_count": null,
   "metadata": {},
   "outputs": [],
   "source": [
    "lgbm_model = LGBMClassifier().fit(X_train, y_train)"
   ]
  },
  {
   "cell_type": "code",
   "execution_count": null,
   "metadata": {},
   "outputs": [],
   "source": [
    "y_pred = lgbm_model.predict(X_test)\n",
    "accuracy_score(y_test, y_pred)"
   ]
  },
  {
   "cell_type": "code",
   "execution_count": null,
   "metadata": {},
   "outputs": [],
   "source": [
    "## Model Tuning"
   ]
  },
  {
   "cell_type": "code",
   "execution_count": null,
   "metadata": {},
   "outputs": [],
   "source": [
    "lgbm_model"
   ]
  },
  {
   "cell_type": "code",
   "execution_count": null,
   "metadata": {},
   "outputs": [],
   "source": [
    "?lgbm_model"
   ]
  },
  {
   "cell_type": "code",
   "execution_count": null,
   "metadata": {},
   "outputs": [],
   "source": [
    "lgbm_params = {\n",
    "        'n_estimators': [100, 500, 1000, 2000],\n",
    "        'subsample': [0.6, 0.8, 1.0],\n",
    "        'max_depth': [3, 4, 5,6],\n",
    "        'learning_rate': [0.1,0.01,0.02,0.05],\n",
    "        \"min_child_samples\": [5,10,20]}"
   ]
  },
  {
   "cell_type": "code",
   "execution_count": null,
   "metadata": {},
   "outputs": [],
   "source": [
    "lgbm = LGBMClassifier()\n",
    "\n",
    "lgbm_cv_model = GridSearchCV(lgbm, lgbm_params, \n",
    "                             cv = 10, \n",
    "                             n_jobs = -1, \n",
    "                             verbose = 2)\n",
    "\n"
   ]
  },
  {
   "cell_type": "code",
   "execution_count": null,
   "metadata": {},
   "outputs": [],
   "source": [
    "lgbm_cv_model.fit(X_train, y_train)"
   ]
  },
  {
   "cell_type": "code",
   "execution_count": null,
   "metadata": {},
   "outputs": [],
   "source": [
    "lgbm_cv_model.best_params_"
   ]
  },
  {
   "cell_type": "code",
   "execution_count": null,
   "metadata": {},
   "outputs": [],
   "source": [
    "lgbm = LGBMClassifier(learning_rate = 0.01, \n",
    "                       max_depth = 3,\n",
    "                       subsample = 0.6,\n",
    "                       n_estimators = 500,\n",
    "                       min_child_samples = 20)"
   ]
  },
  {
   "cell_type": "code",
   "execution_count": null,
   "metadata": {},
   "outputs": [],
   "source": [
    "lgbm_tuned = lgbm.fit(X_train,y_train)"
   ]
  },
  {
   "cell_type": "code",
   "execution_count": null,
   "metadata": {},
   "outputs": [],
   "source": [
    "y_pred = lgbm_tuned.predict(X_test)\n",
    "accuracy_score(y_test, y_pred)"
   ]
  },
  {
   "cell_type": "markdown",
   "metadata": {},
   "source": [
    "# CatBoost"
   ]
  },
  {
   "cell_type": "markdown",
   "metadata": {},
   "source": [
    "## Model & Tahmin"
   ]
  },
  {
   "cell_type": "code",
   "execution_count": null,
   "metadata": {},
   "outputs": [],
   "source": [
    "df = diabetes.copy()\n",
    "df = df.dropna()\n",
    "y = df[\"Outcome\"]\n",
    "X = df.drop(['Outcome'], axis=1)\n",
    "#X = df[\"Pregnancies\"]\n",
    "X = pd.DataFrame(X)\n",
    "X_train, X_test, y_train, y_test = train_test_split(X, y, \n",
    "                                                    test_size=0.30, \n",
    "                                                    random_state=42)"
   ]
  },
  {
   "cell_type": "code",
   "execution_count": null,
   "metadata": {},
   "outputs": [],
   "source": [
    "#!pip install catboost\n",
    "from catboost import CatBoostClassifier"
   ]
  },
  {
   "cell_type": "code",
   "execution_count": null,
   "metadata": {},
   "outputs": [],
   "source": [
    "cat_model = CatBoostClassifier().fit(X_train, y_train)"
   ]
  },
  {
   "cell_type": "code",
   "execution_count": null,
   "metadata": {},
   "outputs": [],
   "source": [
    "y_pred = cat_model.predict(X_test)\n",
    "accuracy_score(y_test, y_pred)"
   ]
  },
  {
   "cell_type": "markdown",
   "metadata": {},
   "source": [
    "## Model Tuning"
   ]
  },
  {
   "cell_type": "code",
   "execution_count": null,
   "metadata": {},
   "outputs": [],
   "source": [
    "catb_params = {\n",
    "    'iterations': [200,500],\n",
    "    'learning_rate': [0.01,0.05, 0.1],\n",
    "    'depth': [3,5,8] }"
   ]
  },
  {
   "cell_type": "code",
   "execution_count": null,
   "metadata": {},
   "outputs": [],
   "source": [
    "catb = CatBoostClassifier()\n",
    "catb_cv_model = GridSearchCV(catb, catb_params, cv=5, n_jobs = -1, verbose = 2)\n",
    "catb_cv_model.fit(X_train, y_train)\n",
    "catb_cv_model.best_params_"
   ]
  },
  {
   "cell_type": "code",
   "execution_count": null,
   "metadata": {},
   "outputs": [],
   "source": [
    "catb_cv_model.best_params_"
   ]
  },
  {
   "cell_type": "code",
   "execution_count": null,
   "metadata": {},
   "outputs": [],
   "source": [
    "catb = CatBoostClassifier(iterations = 200, \n",
    "                          learning_rate = 0.05, \n",
    "                          depth = 5)\n",
    "\n",
    "catb_tuned = catb.fit(X_train, y_train)\n",
    "y_pred = catb_tuned.predict(X_test)"
   ]
  },
  {
   "cell_type": "code",
   "execution_count": null,
   "metadata": {},
   "outputs": [],
   "source": [
    "y_pred = catb_tuned.predict(X_test)\n",
    "accuracy_score(y_test, y_pred)"
   ]
  },
  {
   "cell_type": "markdown",
   "metadata": {},
   "source": [
    "# Tüm Modellerin Karşılaştırılması"
   ]
  },
  {
   "cell_type": "code",
   "execution_count": null,
   "metadata": {},
   "outputs": [],
   "source": [
    "modeller = [\n",
    "    knn_tuned,\n",
    "    loj_model,\n",
    "    svc_tuned,\n",
    "    nb_model,\n",
    "    mlpc_tuned,\n",
    "    cart_tuned,\n",
    "    rf_tuned,\n",
    "    gbm_tuned,\n",
    "    catb_tuned,\n",
    "    lgbm_tuned,\n",
    "    xgb_tuned\n",
    "    \n",
    "]\n",
    "\n",
    "\n",
    "for model in modeller:\n",
    "    isimler = model.__class__.__name__\n",
    "    y_pred = model.predict(X_test)\n",
    "    dogruluk = accuracy_score(y_test, y_pred)\n",
    "    print(\"-\"*28)\n",
    "    print(isimler + \":\" )\n",
    "    print(\"Accuracy: {:.4%}\".format(dogruluk))"
   ]
  },
  {
   "cell_type": "code",
   "execution_count": null,
   "metadata": {},
   "outputs": [],
   "source": [
    "sonuc = []\n",
    "\n",
    "sonuclar = pd.DataFrame(columns= [\"Modeller\",\"Accuracy\"])\n",
    "\n",
    "for model in modeller:\n",
    "    isimler = model.__class__.__name__\n",
    "    y_pred = model.predict(X_test)\n",
    "    dogruluk = accuracy_score(y_test, y_pred)    \n",
    "    sonuc = pd.DataFrame([[isimler, dogruluk*100]], columns= [\"Modeller\",\"Accuracy\"])\n",
    "    sonuclar = sonuclar.append(sonuc)\n",
    "    \n",
    "    \n",
    "sns.barplot(x= 'Accuracy', y = 'Modeller', data=sonuclar, color=\"r\")\n",
    "plt.xlabel('Accuracy %')\n",
    "plt.title('Modellerin Doğruluk Oranları');    "
   ]
  }
 ],
 "metadata": {
  "kernelspec": {
   "display_name": "Python 3",
   "language": "python",
   "name": "python3"
  },
  "language_info": {
   "codemirror_mode": {
    "name": "ipython",
    "version": 3
   },
   "file_extension": ".py",
   "mimetype": "text/x-python",
   "name": "python",
   "nbconvert_exporter": "python",
   "pygments_lexer": "ipython3",
   "version": "3.8.8"
  }
 },
 "nbformat": 4,
 "nbformat_minor": 4
}
